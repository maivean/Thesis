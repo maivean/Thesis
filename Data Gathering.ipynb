{
 "cells": [
  {
   "cell_type": "code",
   "execution_count": null,
   "id": "287347d9",
   "metadata": {},
   "outputs": [],
   "source": [
    "# Import Libraries\n",
    "\n",
    "import pandas as pd\n",
    "import csv\n",
    "import re\n",
    "import string\n",
    "import preprocessor as p\n",
    "import tweepy\n",
    "import datetime\n",
    "\n",
    "from tweepy import *\n",
    "from tweepy import OAuthHandler\n",
    "\n",
    "###############################################################################\n",
    "\n",
    "#import sys\n",
    "#import matplotlib.pyplot as plt\n",
    "#import pandas as pd\n",
    "#import numpy as np\n",
    "#import os\n",
    "#import nltk\n",
    "#import pycountry\n",
    "#import re\n",
    "#import string\n",
    "#import csv\n",
    "#from textblob import TextBlob\n",
    "#from wordcloud import WordCloud, STOPWORDS\n",
    "#from PIL import Image\n",
    "#from nltk.sentiment.vader import SentimentIntensityAnalyzer\n",
    "#from langdetect import detect\n",
    "#from nltk.stem import SnowballStemmer\n",
    "#from nltk.sentiment.vader import SentimentIntensityAnalyzer\n",
    "#from sklearn.feature_extraction.text import CountVectorizer"
   ]
  },
  {
   "cell_type": "code",
   "execution_count": null,
   "id": "cde738e5",
   "metadata": {},
   "outputs": [],
   "source": [
    "#Twitter Authentification Credentials -> Please update with your own credentials\n",
    "consumerKey = '8cxGQApSTSLK6QBWtGqCHX8WD'\n",
    "consumerSecret = 'zlRrfe06b1RWVyzVQoWLQ52VK9S8BzTW481828RHp06chOpS84'\n",
    "accessToken = '881041475001131008-LiqkIJGR6MFy0KDvRaWoumLHOHe5oHn'\n",
    "accessTokenSecret = 'SbddDAwnfWAlQKHLURNh0SVjI1bec5dQkN0wYjNtFlS7S'\n",
    "    \n",
    "auth = tweepy.OAuthHandler(consumerKey, consumerSecret)\n",
    "auth.set_access_token(accessToken, accessTokenSecret)\n",
    "api = tweepy.API(auth)"
   ]
  },
  {
   "cell_type": "code",
   "execution_count": null,
   "id": "513a73bb",
   "metadata": {},
   "outputs": [],
   "source": [
    "present = datetime.date.today()\n",
    "past= present - datetime.timedelta(days=1291)\n",
    "present, past"
   ]
  },
  {
   "cell_type": "code",
   "execution_count": null,
   "id": "0a229a32",
   "metadata": {},
   "outputs": [],
   "source": [
    "search_words = \"F2F Classes\"      # enter your words\n",
    "new_search = search_words + \" -filter:retweets\""
   ]
  },
  {
   "cell_type": "code",
   "execution_count": null,
   "id": "45094c28",
   "metadata": {},
   "outputs": [],
   "source": [
    "tweets_list =  tweepy.Cursor(api.search_tweets,q=new_search,tweet_mode='extended', lang='en').items(3000)"
   ]
  },
  {
   "cell_type": "code",
   "execution_count": null,
   "id": "11aa91a5",
   "metadata": {},
   "outputs": [],
   "source": [
    "output = []\n",
    "for tweet in tweets_list:\n",
    "    text = tweet._json[\"full_text\"]\n",
    "    print(text)\n",
    "    \n",
    "    line = {'text' : text}\n",
    "    output.append(line)"
   ]
  },
  {
   "cell_type": "code",
   "execution_count": null,
   "id": "9477a6f8",
   "metadata": {},
   "outputs": [],
   "source": [
    "df = pd.DataFrame(output)\n",
    "df.to_csv('C:/Users/casti/Documents/ThesisData/Dataset_F2FClasses.csv', index=False) #change csv file name every search"
   ]
  },
  {
   "cell_type": "raw",
   "id": "92ea7eb6",
   "metadata": {},
   "source": [
    "#Removed line of Code\n",
    "csvWriter.writerow([tweet.created_at, tweet.text.encode('utf-8'),tweet.user.screen_name.encode('utf-8'), tweet.user.location.encode('utf-8')])"
   ]
  },
  {
   "cell_type": "raw",
   "id": "caec0db7",
   "metadata": {},
   "source": [
    "#Removed line of Code\n",
    "csvFile = open('Dataset_PandemicOnlineClass.csv', 'a')\n",
    "csvWriter = csv.writer(csvFile)"
   ]
  }
 ],
 "metadata": {
  "kernelspec": {
   "display_name": "Python 3 (ipykernel)",
   "language": "python",
   "name": "python3"
  },
  "language_info": {
   "codemirror_mode": {
    "name": "ipython",
    "version": 3
   },
   "file_extension": ".py",
   "mimetype": "text/x-python",
   "name": "python",
   "nbconvert_exporter": "python",
   "pygments_lexer": "ipython3",
   "version": "3.9.7"
  }
 },
 "nbformat": 4,
 "nbformat_minor": 5
}
