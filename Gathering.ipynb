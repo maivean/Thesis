{
 "cells": [
  {
   "cell_type": "code",
   "execution_count": 1,
   "id": "6f272041",
   "metadata": {},
   "outputs": [],
   "source": [
    "import tweepy\n",
    "import configparser\n",
    "import pandas as pd"
   ]
  },
  {
   "cell_type": "code",
   "execution_count": 2,
   "id": "599b0421",
   "metadata": {},
   "outputs": [],
   "source": [
    "#Twitter Authentification Credentials -> Please update with your own credentials\n",
    "consumerKey = '8cxGQApSTSLK6QBWtGqCHX8WD'\n",
    "consumerSecret = 'zlRrfe06b1RWVyzVQoWLQ52VK9S8BzTW481828RHp06chOpS84'\n",
    "accessToken = '881041475001131008-LiqkIJGR6MFy0KDvRaWoumLHOHe5oHn'\n",
    "accessTokenSecret = 'SbddDAwnfWAlQKHLURNh0SVjI1bec5dQkN0wYjNtFlS7S'\n",
    "    \n",
    "auth = tweepy.OAuthHandler(consumerKey, consumerSecret)\n",
    "auth.set_access_token(accessToken, accessTokenSecret)\n",
    "api = tweepy.API(auth)"
   ]
  },
  {
   "cell_type": "raw",
   "id": "3bbb76c7",
   "metadata": {},
   "source": [
    "# user tweets\n",
    "user = '_pmcastillo_'\n",
    "limit=300\n",
    "\n",
    "tweets = tweepy.Cursor(api.user_timeline, screen_name=user, count=200, tweet_mode='extended').items(limit)"
   ]
  },
  {
   "cell_type": "code",
   "execution_count": 3,
   "id": "d69f9f24",
   "metadata": {},
   "outputs": [],
   "source": [
    "# search tweets\n",
    "keywords = 'Distance Learning'\n",
    "limit=2500\n",
    "\n",
    "tweets = tweepy.Cursor(api.search_tweets, q=keywords, tweet_mode='extended', lang='en').items(limit)"
   ]
  },
  {
   "cell_type": "code",
   "execution_count": 4,
   "id": "b24faba5",
   "metadata": {},
   "outputs": [
    {
     "name": "stdout",
     "output_type": "stream",
     "text": [
      "                 User                                              Tweet\n",
      "0     jonesytheteachr  \"Disability conversations: The NCCD and distan...\n",
      "1           EdTechFam  RT @Teach_Logic: Wondering if TeachLogic micro...\n",
      "2            suptking  RT @MadisonAcademic: ALL Madison Seniors take ...\n",
      "3      gorebitchbuggs  @triplemacaroni @P30521130P @SamitoFPS this is...\n",
      "4        attyjlynchjr  @dave_tente @kathyprojo @PatrickAnderso_ @proj...\n",
      "...               ...                                                ...\n",
      "2088      MLA_College  MASTER OF BUSINESS ADMINISTRATION\\n\\nMLA Colle...\n",
      "2089    LukeshRoberts  RT @VenetiaW10: Just finished my PhD viva on ‘...\n",
      "2090    GeoEdResearch  @dasingleton Why not? Evidence me - why can’t ...\n",
      "2091     DucoTraining  RT @DucoDigital: Wondering why you should upsk...\n",
      "2092   DistanceLrnBot  RT @LEIAvoice_UK: Did you know? We have the hi...\n",
      "\n",
      "[2093 rows x 2 columns]\n"
     ]
    }
   ],
   "source": [
    "# create DataFrame\n",
    "columns = ['User', 'Tweet']\n",
    "data = []\n",
    "\n",
    "for tweet in tweets:\n",
    "    data.append([tweet.user.screen_name, tweet.full_text])\n",
    "\n",
    "df = pd.DataFrame(data, columns=columns)\n",
    "\n",
    "print(df)"
   ]
  },
  {
   "cell_type": "code",
   "execution_count": 5,
   "id": "f953ed10",
   "metadata": {},
   "outputs": [],
   "source": [
    "df = pd.DataFrame(data, columns=columns)\n",
    "df.to_csv('C:/Users/casti/Documents/ThesisData/DistanceLearning_Dataset.csv', index=False) #change csv file name every search"
   ]
  }
 ],
 "metadata": {
  "kernelspec": {
   "display_name": "Python 3 (ipykernel)",
   "language": "python",
   "name": "python3"
  },
  "language_info": {
   "codemirror_mode": {
    "name": "ipython",
    "version": 3
   },
   "file_extension": ".py",
   "mimetype": "text/x-python",
   "name": "python",
   "nbconvert_exporter": "python",
   "pygments_lexer": "ipython3",
   "version": "3.9.7"
  }
 },
 "nbformat": 4,
 "nbformat_minor": 5
}
